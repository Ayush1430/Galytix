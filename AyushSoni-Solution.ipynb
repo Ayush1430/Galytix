{
 "cells": [
  {
   "cell_type": "code",
   "execution_count": 2,
   "id": "1b389e5f",
   "metadata": {},
   "outputs": [
    {
     "name": "stdout",
     "output_type": "stream",
     "text": [
      "Requirement already satisfied: gdown in c:\\users\\vikas yadav\\anaconda3\\lib\\site-packages (4.7.1)\n",
      "Requirement already satisfied: filelock in c:\\users\\vikas yadav\\anaconda3\\lib\\site-packages (from gdown) (3.9.0)\n",
      "Requirement already satisfied: requests[socks] in c:\\users\\vikas yadav\\anaconda3\\lib\\site-packages (from gdown) (2.31.0)\n",
      "Requirement already satisfied: six in c:\\users\\vikas yadav\\anaconda3\\lib\\site-packages (from gdown) (1.16.0)\n",
      "Requirement already satisfied: tqdm in c:\\users\\vikas yadav\\anaconda3\\lib\\site-packages (from gdown) (4.65.0)\n",
      "Requirement already satisfied: beautifulsoup4 in c:\\users\\vikas yadav\\anaconda3\\lib\\site-packages (from gdown) (4.12.2)\n",
      "Requirement already satisfied: soupsieve>1.2 in c:\\users\\vikas yadav\\anaconda3\\lib\\site-packages (from beautifulsoup4->gdown) (2.4)\n",
      "Requirement already satisfied: charset-normalizer<4,>=2 in c:\\users\\vikas yadav\\anaconda3\\lib\\site-packages (from requests[socks]->gdown) (2.0.4)\n",
      "Requirement already satisfied: idna<4,>=2.5 in c:\\users\\vikas yadav\\anaconda3\\lib\\site-packages (from requests[socks]->gdown) (3.4)\n",
      "Requirement already satisfied: urllib3<3,>=1.21.1 in c:\\users\\vikas yadav\\anaconda3\\lib\\site-packages (from requests[socks]->gdown) (1.26.16)\n",
      "Requirement already satisfied: certifi>=2017.4.17 in c:\\users\\vikas yadav\\anaconda3\\lib\\site-packages (from requests[socks]->gdown) (2023.7.22)\n",
      "Requirement already satisfied: PySocks!=1.5.7,>=1.5.6 in c:\\users\\vikas yadav\\anaconda3\\lib\\site-packages (from requests[socks]->gdown) (1.7.1)\n",
      "Requirement already satisfied: colorama in c:\\users\\vikas yadav\\anaconda3\\lib\\site-packages (from tqdm->gdown) (0.4.6)\n",
      "Note: you may need to restart the kernel to use updated packages.\n",
      "Access denied with the following error:\n"
     ]
    },
    {
     "name": "stderr",
     "output_type": "stream",
     "text": [
      "\n",
      " \tToo many users have viewed or downloaded this file recently. Please\n",
      "\ttry accessing the file again later. If the file you are trying to\n",
      "\taccess is particularly large or is shared with many people, it may\n",
      "\ttake up to 24 hours to be able to view or download the file. If you\n",
      "\tstill can't access a file after 24 hours, contact your domain\n",
      "\tadministrator. \n",
      "\n",
      "You may still be able to access the file from the browser:\n",
      "\n",
      "\t https://drive.google.com/uc?id=0B7XkCwpI5KDYNlNUTTlSS21pQmM \n",
      "\n"
     ]
    }
   ],
   "source": [
    "%pip install gdown\n",
    "import gdown\n",
    "\n",
    "url = 'https://drive.google.com/uc?id=0B7XkCwpI5KDYNlNUTTlSS21pQmM'\n",
    "output = 'GoogleNews-vectors-negative300.bin'\n",
    "\n",
    "gdown.download(url, output, quiet=False)"
   ]
  },
  {
   "cell_type": "code",
   "execution_count": 4,
   "id": "24a68179",
   "metadata": {},
   "outputs": [],
   "source": [
    "import gensim\n",
    "from gensim.models import KeyedVectors\n",
    "\n",
    "# Define the location of the downloaded Word2Vec binary file and the limit\n",
    "location = 'C:/Users/Ayush Soni/Downloads/GoogleNews-vectors-negative300.bin/GoogleNews-vectors-negative300.bin'\n",
    "limit = 1000000\n",
    "\n",
    "# Load the Word2Vec model from the binary file with the specified limit\n",
    "wv = KeyedVectors.load_word2vec_format(location, binary=True, limit=limit)\n",
    "\n",
    "# Save the Word2Vec model as a flat file\n",
    "wv.save_word2vec_format('vectors(1).csv')"
   ]
  },
  {
   "cell_type": "code",
   "execution_count": 5,
   "id": "c1c6cc4d",
   "metadata": {},
   "outputs": [],
   "source": [
    "def get_phrase_embeddings(phrase, wv):\n",
    "    words = phrase.split()\n",
    "    embeddings = [wv[word] for word in words if word in wv]\n",
    "    if embeddings:\n",
    "        return sum(embeddings) / len(embeddings)\n",
    "    else:\n",
    "        return None  # Handle cases where none of the words have embeddings\n",
    "\n",
    "# Example usage:\n",
    "phrase = \"example phrase\"\n",
    "phrase_embedding = get_phrase_embeddings(phrase, wv)\n"
   ]
  },
  {
   "cell_type": "code",
   "execution_count": 6,
   "id": "64295920",
   "metadata": {},
   "outputs": [
    {
     "name": "stdout",
     "output_type": "stream",
     "text": [
      "Windows-1252\n"
     ]
    }
   ],
   "source": [
    "import chardet\n",
    "\n",
    "# Detect the encoding of your file\n",
    "with open('phrases.csv', 'rb') as f:\n",
    "    result = chardet.detect(f.read())\n",
    "\n",
    "# Print the detected encoding\n",
    "print(result['encoding'])\n",
    "\n",
    "import pandas as pd\n",
    "\n",
    "# Read the CSV file with error handling\n",
    "data = pd.read_csv('phrases.csv', encoding='Windows-1252')"
   ]
  },
  {
   "cell_type": "code",
   "execution_count": 7,
   "id": "796d312a",
   "metadata": {},
   "outputs": [
    {
     "data": {
      "text/plain": [
       "['how company compares to its peers?',\n",
       " 'what is the detailed income statement breakdown of Axa?',\n",
       " 'world premium penetration in 2020',\n",
       " 'How does the forecasted insurance premium penetration in country trend compare to its peers?',\n",
       " 'what are the total losses for companies in country  non life market?',\n",
       " 'Insurance premiums market in Country',\n",
       " 'How have the profit margins been for the airlines industry through the years, by regions?',\n",
       " 'What is the complete profile of the top oil rigs?',\n",
       " 'what is company general information?',\n",
       " 'How is the airline industry performing globally?',\n",
       " 'how does economic profit for in country compare to others?',\n",
       " 'most profitable insurance company India',\n",
       " 'Give me a detailed breakup of the income and expenses in South-East Asia',\n",
       " 'Show me all the oil rigs in the world',\n",
       " 'What were the premiums earned by the Indian insurance industry in 2020?',\n",
       " 'How much have premiums grown as compared to claims for India?',\n",
       " 'Which are the best performing insurance firms in India?',\n",
       " 'What is the ROE of the Indian market?',\n",
       " 'What profits were clocked by Cholamandalam in 2020?',\n",
       " 'What is the premiums market share of the top 5 companies in India?',\n",
       " 'How will the Brazilian insurance market perform in case of a sluggish economic scenario?',\n",
       " 'Which are the main distribution channels in India?',\n",
       " 'What are the risks in the motor insurance segment in India?',\n",
       " 'What is the demand potential of India for insurance?',\n",
       " 'How do premiums break down by lines of business in India?',\n",
       " 'What is the share price of Qantas?',\n",
       " 'How many passengers are carried in ?',\n",
       " 'Which are the aircrafts manufactured by Boeing?',\n",
       " 'Kdo je nejv?tší konkurent ?eské Pojiš?ovny?',\n",
       " 'Which are the top airports?',\n",
       " 'How many fatal air accidents till date?',\n",
       " 'What is the flow of air traffic in North America?',\n",
       " 'What is the fleet of Airbus?',\n",
       " 'Airlines profitability Brazil?',\n",
       " 'Mergers among airline companies?',\n",
       " 'Which are the most profitable airports?',\n",
       " 'What has the capacity movement of airline companies been over the years?',\n",
       " 'Details of the Aban Abraham oil rig?',\n",
       " 'How big is the airlines industry in China?',\n",
       " \"How much money did Lloyd's of London make last year?\",\n",
       " \"What was the Calendar year COR versus the Accident year COR for Lloyd's?\",\n",
       " \"Which Lloyd's syndicates owns the maximum number of assets?\",\n",
       " 'List key performance indicators for AXA?',\n",
       " 'What are the most prominent legal cases?',\n",
       " 'How does oil industry perform in Brazil?',\n",
       " 'What is the main driver of growth in automobile industry in Europe?',\n",
       " 'Which country in Europe is going to grow the most in 2020?',\n",
       " 'What are the biggest acquisitions in 2020?',\n",
       " 'How impacted is the airline industry in 2020?',\n",
       " 'What are the most prominent bankruptcies in 2020?']"
      ]
     },
     "metadata": {},
     "output_type": "display_data"
    }
   ],
   "source": [
    "import pandas as pd\n",
    "import numpy as np\n",
    "from sklearn.metrics.pairwise import euclidean_distances, cosine_distances\n",
    "\n",
    "# Load phrases from 'phrases.csv'\n",
    "phrases_df = data\n",
    "phrases = phrases_df['Phrases'].tolist()\n",
    "\n",
    "display(phrases)"
   ]
  },
  {
   "cell_type": "code",
   "execution_count": 9,
   "id": "c36e042e",
   "metadata": {},
   "outputs": [
    {
     "data": {
      "text/plain": [
       "array([[0.0000000e+00, 1.3331060e+00, 1.6539644e+00, ..., 1.4554999e+00,\n",
       "        1.2601024e+00, 1.5344033e+00],\n",
       "       [1.3331060e+00, 4.2146848e-08, 1.5864531e+00, ..., 1.2457829e+00,\n",
       "        1.2353045e+00, 1.2209918e+00],\n",
       "       [1.6539644e+00, 1.5864531e+00, 0.0000000e+00, ..., 1.4626017e+00,\n",
       "        1.4938005e+00, 1.5217372e+00],\n",
       "       ...,\n",
       "       [1.4554999e+00, 1.2457829e+00, 1.4626017e+00, ..., 0.0000000e+00,\n",
       "        1.1309116e+00, 8.8096464e-01],\n",
       "       [1.2601024e+00, 1.2353045e+00, 1.4938005e+00, ..., 1.1309116e+00,\n",
       "        0.0000000e+00, 1.0785913e+00],\n",
       "       [1.5344033e+00, 1.2209918e+00, 1.5217372e+00, ..., 8.8096464e-01,\n",
       "        1.0785913e+00, 0.0000000e+00]], dtype=float32)"
      ]
     },
     "metadata": {},
     "output_type": "display_data"
    },
    {
     "data": {
      "text/plain": [
       "array([[0.        , 0.48511565, 0.6306617 , ..., 0.5808232 , 0.43262547,\n",
       "        0.65011823],\n",
       "       [0.48511565, 0.        , 0.6882394 , ..., 0.53877676, 0.53459084,\n",
       "        0.52022624],\n",
       "       [0.6306617 , 0.6882394 , 0.        , ..., 0.58025837, 0.6100078 ,\n",
       "        0.632179  ],\n",
       "       ...,\n",
       "       [0.5808232 , 0.53877676, 0.58025837, ..., 0.        , 0.44645047,\n",
       "        0.2698568 ],\n",
       "       [0.43262547, 0.53459084, 0.6100078 , ..., 0.44645047, 0.        ,\n",
       "        0.4082259 ],\n",
       "       [0.65011823, 0.52022624, 0.632179  , ..., 0.2698568 , 0.4082259 ,\n",
       "        0.        ]], dtype=float32)"
      ]
     },
     "metadata": {},
     "output_type": "display_data"
    }
   ],
   "source": [
    "# Calculate L2 (Euclidean) distances\n",
    "phrase_embeddings = [get_phrase_embeddings(phrase, wv) for phrase in phrases]\n",
    "distances_l2 = euclidean_distances(phrase_embeddings, phrase_embeddings)\n",
    "\n",
    "# Calculate Cosine distances\n",
    "distances_cosine = cosine_distances(phrase_embeddings, phrase_embeddings)\n",
    "display(distances_l2)\n",
    "display(distances_cosine)"
   ]
  },
  {
   "cell_type": "code",
   "execution_count": 16,
   "id": "d686f3c0",
   "metadata": {},
   "outputs": [
    {
     "data": {
      "text/plain": [
       "'Mergers among airline companies?'"
      ]
     },
     "metadata": {},
     "output_type": "display_data"
    }
   ],
   "source": [
    "def find_closest_match(user_input, phrases, wv, metric='cosine'):\n",
    "    user_embedding = get_phrase_embeddings(user_input, wv)\n",
    "    if user_embedding is None:\n",
    "        return None, None  # No valid embeddings for user input\n",
    "    distances = []\n",
    "    for phrase in phrases:\n",
    "        phrase_embedding = get_phrase_embeddings(phrase, wv)\n",
    "        if phrase_embedding is not None:\n",
    "            if metric == 'l2':\n",
    "                distance = np.linalg.norm(user_embedding - phrase_embedding)\n",
    "            elif metric == 'cosine':\n",
    "                distance = np.dot(user_embedding, phrase_embedding)\n",
    "            distances.append((phrase, distance))\n",
    "    distances.sort(key=lambda x: x[1])  # Sort by distance\n",
    "    closest_match, closest_distance = distances[0]\n",
    "    return closest_match, closest_distance\n",
    "\n",
    "# Example usage:\n",
    "user_input = \"what\"\n",
    "closest_match, distance = find_closest_match(user_input, phrases, wv, metric='cosine')\n",
    "display(closest_match)"
   ]
  },
  {
   "cell_type": "code",
   "execution_count": 18,
   "id": "978e2c96",
   "metadata": {},
   "outputs": [
    {
     "data": {
      "text/plain": [
       "'world premium penetration in 2020'"
      ]
     },
     "metadata": {},
     "output_type": "display_data"
    }
   ],
   "source": [
    "def find_closest_match(user_input, phrases, wv, metric='cosine'):\n",
    "    user_embedding = get_phrase_embeddings(user_input, wv)\n",
    "    if user_embedding is None:\n",
    "        return None, None  # No valid embeddings for user input\n",
    "    distances = []\n",
    "    for phrase in phrases:\n",
    "        phrase_embedding = get_phrase_embeddings(phrase, wv)\n",
    "        if phrase_embedding is not None:\n",
    "            if metric == 'l2':\n",
    "                distance = np.linalg.norm(user_embedding - phrase_embedding)\n",
    "            elif metric == 'cosine':\n",
    "                distance = np.dot(user_embedding, phrase_embedding)\n",
    "            distances.append((phrase, distance))\n",
    "    distances.sort(key=lambda x: x[1])  # Sort by distance\n",
    "    closest_match, closest_distance = distances[0]\n",
    "    return closest_match, closest_distance\n",
    "\n",
    "# Example usage:\n",
    "user_input = \"how\"\n",
    "closest_match, distance = find_closest_match(user_input, phrases, wv, metric='cosine')\n",
    "display(closest_match)"
   ]
  },
  {
   "cell_type": "code",
   "execution_count": null,
   "id": "9982b792",
   "metadata": {},
   "outputs": [],
   "source": []
  }
 ],
 "metadata": {
  "kernelspec": {
   "display_name": "Python 3 (ipykernel)",
   "language": "python",
   "name": "python3"
  },
  "language_info": {
   "codemirror_mode": {
    "name": "ipython",
    "version": 3
   },
   "file_extension": ".py",
   "mimetype": "text/x-python",
   "name": "python",
   "nbconvert_exporter": "python",
   "pygments_lexer": "ipython3",
   "version": "3.11.5"
  }
 },
 "nbformat": 4,
 "nbformat_minor": 5
}
